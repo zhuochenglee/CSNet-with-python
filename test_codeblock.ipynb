{
 "cells": [
  {
   "cell_type": "markdown",
   "source": [],
   "metadata": {
    "collapsed": false
   },
   "id": "54faaa5c7cfe6943"
  },
  {
   "cell_type": "code",
   "execution_count": 1,
   "outputs": [],
   "source": [
    "import os"
   ],
   "metadata": {
    "collapsed": false,
    "ExecuteTime": {
     "end_time": "2023-10-08T13:09:43.078769700Z",
     "start_time": "2023-10-08T13:09:40.740791300Z"
    }
   },
   "id": "33e871c0b7eba09c"
  },
  {
   "cell_type": "code",
   "execution_count": 5,
   "outputs": [
    {
     "name": "stderr",
     "output_type": "stream",
     "text": [
      "usage: ipykernel_launcher.py [-h] [--device DEVICE] [--wab WAB]\n",
      "                             [--test_data TEST_DATA] [--block_size BLOCK_SIZE]\n",
      "                             [--sub_rate SUB_RATE] [--dataset DATASET]\n",
      "ipykernel_launcher.py: error: unrecognized arguments: -f C:\\Users\\11512\\AppData\\Roaming\\jupyter\\runtime\\kernel-9006ac27-6b35-476f-9dec-10e32aafa6ae.json\n"
     ]
    },
    {
     "ename": "SystemExit",
     "evalue": "2",
     "output_type": "error",
     "traceback": [
      "An exception has occurred, use %tb to see the full traceback.\n",
      "\u001B[1;31mSystemExit\u001B[0m\u001B[1;31m:\u001B[0m 2\n"
     ]
    }
   ],
   "source": [],
   "metadata": {
    "collapsed": false,
    "ExecuteTime": {
     "end_time": "2023-10-08T13:17:05.851179100Z",
     "start_time": "2023-10-08T13:17:05.807654500Z"
    }
   },
   "id": "d24b1a69dc05e07a"
  }
 ],
 "metadata": {
  "kernelspec": {
   "display_name": "Python 3",
   "language": "python",
   "name": "python3"
  },
  "language_info": {
   "codemirror_mode": {
    "name": "ipython",
    "version": 2
   },
   "file_extension": ".py",
   "mimetype": "text/x-python",
   "name": "python",
   "nbconvert_exporter": "python",
   "pygments_lexer": "ipython2",
   "version": "2.7.6"
  }
 },
 "nbformat": 4,
 "nbformat_minor": 5
}
