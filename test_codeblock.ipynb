{
 "cells": [
  {
   "cell_type": "markdown",
   "source": [],
   "metadata": {
    "collapsed": false
   },
   "id": "54faaa5c7cfe6943"
  },
  {
   "cell_type": "code",
   "execution_count": 4,
   "outputs": [],
   "source": [
    "import os\n",
    "import cv2"
   ],
   "metadata": {
    "collapsed": false,
    "ExecuteTime": {
     "end_time": "2023-11-21T04:44:44.448680300Z",
     "start_time": "2023-11-21T04:44:44.355135700Z"
    }
   },
   "id": "33e871c0b7eba09c"
  },
  {
   "cell_type": "code",
   "execution_count": 6,
   "outputs": [],
   "source": [
    "img = cv2.imread('BSDS500/train/2018.jpg')"
   ],
   "metadata": {
    "collapsed": false,
    "ExecuteTime": {
     "end_time": "2023-11-21T04:45:42.756162200Z",
     "start_time": "2023-11-21T04:45:42.742492500Z"
    }
   },
   "id": "d508c5a987d43902"
  },
  {
   "cell_type": "code",
   "execution_count": 7,
   "outputs": [],
   "source": [
    "resize_img = cv2.resize(img, (481, 321))"
   ],
   "metadata": {
    "collapsed": false,
    "ExecuteTime": {
     "end_time": "2023-11-21T04:46:08.829642Z",
     "start_time": "2023-11-21T04:46:08.808641300Z"
    }
   },
   "id": "83baf5a73d22eb6a"
  },
  {
   "cell_type": "code",
   "execution_count": 9,
   "outputs": [
    {
     "ename": "TypeError",
     "evalue": "destroyWindow() missing required argument 'winname' (pos 1)",
     "output_type": "error",
     "traceback": [
      "\u001B[1;31m---------------------------------------------------------------------------\u001B[0m",
      "\u001B[1;31mTypeError\u001B[0m                                 Traceback (most recent call last)",
      "Cell \u001B[1;32mIn[9], line 3\u001B[0m\n\u001B[0;32m      1\u001B[0m cv2\u001B[38;5;241m.\u001B[39mimshow(\u001B[38;5;124m'\u001B[39m\u001B[38;5;124mimage\u001B[39m\u001B[38;5;124m'\u001B[39m, resize_img)\n\u001B[0;32m      2\u001B[0m cv2\u001B[38;5;241m.\u001B[39mwaitKey()\n\u001B[1;32m----> 3\u001B[0m \u001B[43mcv2\u001B[49m\u001B[38;5;241;43m.\u001B[39;49m\u001B[43mdestroyWindow\u001B[49m\u001B[43m(\u001B[49m\u001B[43m)\u001B[49m\n",
      "\u001B[1;31mTypeError\u001B[0m: destroyWindow() missing required argument 'winname' (pos 1)"
     ]
    }
   ],
   "source": [
    "cv2.imshow('image', resize_img)\n",
    "cv2.waitKey()\n",
    "cv2.destroyWindow()\n"
   ],
   "metadata": {
    "collapsed": false,
    "ExecuteTime": {
     "end_time": "2023-11-21T04:48:12.341284600Z",
     "start_time": "2023-11-21T04:47:48.567332200Z"
    }
   },
   "id": "9ec84b64b738cb93"
  },
  {
   "cell_type": "code",
   "execution_count": null,
   "outputs": [],
   "source": [],
   "metadata": {
    "collapsed": false
   },
   "id": "737e9bc7a9bc4a2b"
  }
 ],
 "metadata": {
  "kernelspec": {
   "display_name": "Python 3",
   "language": "python",
   "name": "python3"
  },
  "language_info": {
   "codemirror_mode": {
    "name": "ipython",
    "version": 2
   },
   "file_extension": ".py",
   "mimetype": "text/x-python",
   "name": "python",
   "nbconvert_exporter": "python",
   "pygments_lexer": "ipython2",
   "version": "2.7.6"
  }
 },
 "nbformat": 4,
 "nbformat_minor": 5
}
